{
 "cells": [
  {
   "cell_type": "code",
   "execution_count": 1,
   "id": "1eac5891-4cfe-4cb6-abdb-eaa540165c77",
   "metadata": {},
   "outputs": [],
   "source": [
    "import pytesseract\n",
    "from PIL import Image"
   ]
  },
  {
   "cell_type": "code",
   "execution_count": 7,
   "id": "49146bfa-5a24-440d-a296-d1ebf35e8abf",
   "metadata": {},
   "outputs": [],
   "source": [
    "image_file = \"data/reference.jpeg\"\n",
    "img = Image.open(image_file)"
   ]
  },
  {
   "cell_type": "code",
   "execution_count": 8,
   "id": "962debe4-ce79-4b8a-920d-d8bbaa0ef0c9",
   "metadata": {},
   "outputs": [],
   "source": [
    "ocr_sol = pytesseract.image_to_string(img)"
   ]
  },
  {
   "cell_type": "code",
   "execution_count": 9,
   "id": "bd2dd595-8df3-4c96-bb2d-355cd12412aa",
   "metadata": {},
   "outputs": [
    {
     "name": "stdout",
     "output_type": "stream",
     "text": [
      "The quick brown fox\n",
      "jumps over\n",
      "the lazy dog.\n",
      "\n"
     ]
    }
   ],
   "source": [
    "print (ocr_sol)"
   ]
  }
 ],
 "metadata": {
  "kernelspec": {
   "display_name": "Python 3 (ipykernel)",
   "language": "python",
   "name": "python3"
  },
  "language_info": {
   "codemirror_mode": {
    "name": "ipython",
    "version": 3
   },
   "file_extension": ".py",
   "mimetype": "text/x-python",
   "name": "python",
   "nbconvert_exporter": "python",
   "pygments_lexer": "ipython3",
   "version": "3.12.2"
  }
 },
 "nbformat": 4,
 "nbformat_minor": 5
}
