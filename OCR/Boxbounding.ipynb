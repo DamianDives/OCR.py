{
 "cells": [
  {
   "cell_type": "code",
   "execution_count": 1,
   "id": "46099eb8-0134-4b60-bc61-388b970de2c1",
   "metadata": {},
   "outputs": [],
   "source": [
    "import pytesseract\n",
    "import cv2"
   ]
  },
  {
   "cell_type": "code",
   "execution_count": 20,
   "id": "b81c7081-8b37-404c-8b5b-c8e6e44b4619",
   "metadata": {},
   "outputs": [],
   "source": [
    "image = cv2.imread(\"data/reference.jpeg\")"
   ]
  },
  {
   "cell_type": "code",
   "execution_count": 21,
   "id": "12fe4aa6-a54a-4850-b9fc-dff43b7a3e27",
   "metadata": {},
   "outputs": [],
   "source": [
    "gray = cv2.cvtColor(image, cv2.COLOR_BGR2GRAY)"
   ]
  },
  {
   "cell_type": "code",
   "execution_count": 22,
   "id": "f207303a-288b-4b7e-b42e-c49c15491c1f",
   "metadata": {},
   "outputs": [
    {
     "data": {
      "text/plain": [
       "True"
      ]
     },
     "execution_count": 22,
     "metadata": {},
     "output_type": "execute_result"
    }
   ],
   "source": [
    "cv2.imwrite(\"temp/reference.jpeg\", gray)"
   ]
  },
  {
   "cell_type": "code",
   "execution_count": 23,
   "id": "72c2ef82-c0bf-4059-8e42-2910892e0023",
   "metadata": {},
   "outputs": [],
   "source": [
    "blur = cv2.GaussianBlur(gray, (7,7), 0)"
   ]
  },
  {
   "cell_type": "code",
   "execution_count": 24,
   "id": "4aa50674-46df-4174-8655-5739e08ea19b",
   "metadata": {},
   "outputs": [
    {
     "data": {
      "text/plain": [
       "True"
      ]
     },
     "execution_count": 24,
     "metadata": {},
     "output_type": "execute_result"
    }
   ],
   "source": [
    "cv2.imwrite(\"temp/reference.jpeg\", blur)"
   ]
  },
  {
   "cell_type": "code",
   "execution_count": 25,
   "id": "fbd26c12-14cd-401a-8a0d-e08171a65f6d",
   "metadata": {},
   "outputs": [],
   "source": [
    "thresh = cv2.threshold(blur, 0, 255, cv2.THRESH_BINARY_INV + cv2.THRESH_OTSU)[1]"
   ]
  },
  {
   "cell_type": "code",
   "execution_count": 26,
   "id": "a558cd27-95e9-4d6f-a38e-3fa2e873bec1",
   "metadata": {},
   "outputs": [
    {
     "data": {
      "text/plain": [
       "True"
      ]
     },
     "execution_count": 26,
     "metadata": {},
     "output_type": "execute_result"
    }
   ],
   "source": [
    "cv2.imwrite(\"temp/reference.jpeg\", thresh)"
   ]
  },
  {
   "cell_type": "code",
   "execution_count": 27,
   "id": "5a77b381-7091-491e-96eb-49dec04c6868",
   "metadata": {},
   "outputs": [],
   "source": [
    "kernal = cv2.getStructuringElement(cv2.MORPH_RECT, (3, 13))"
   ]
  },
  {
   "cell_type": "code",
   "execution_count": 28,
   "id": "a252760d-1c03-4835-9ac0-161f6adbd4a9",
   "metadata": {},
   "outputs": [
    {
     "data": {
      "text/plain": [
       "True"
      ]
     },
     "execution_count": 28,
     "metadata": {},
     "output_type": "execute_result"
    }
   ],
   "source": [
    "cv2.imwrite(\"temp/reference_kernel.jpeg\", kernal)"
   ]
  },
  {
   "cell_type": "code",
   "execution_count": 29,
   "id": "4fe6421a-00cb-4d41-9644-35fb452710b4",
   "metadata": {},
   "outputs": [],
   "source": [
    "dilate = cv2.dilate(thresh, kernal, iterations=1)"
   ]
  },
  {
   "cell_type": "code",
   "execution_count": 30,
   "id": "3b15a560-349d-4a32-8237-7cb8343d9530",
   "metadata": {},
   "outputs": [
    {
     "data": {
      "text/plain": [
       "True"
      ]
     },
     "execution_count": 30,
     "metadata": {},
     "output_type": "execute_result"
    }
   ],
   "source": [
    "cv2.imwrite(\"temp/reference_dilate.jpeg\", dilate)"
   ]
  },
  {
   "cell_type": "code",
   "execution_count": 31,
   "id": "399f148d-1951-478b-b228-832427b6a5aa",
   "metadata": {},
   "outputs": [],
   "source": [
    "cnts = cv2.findContours(dilate, cv2.RETR_EXTERNAL, cv2.CHAIN_APPROX_SIMPLE)"
   ]
  },
  {
   "cell_type": "code",
   "execution_count": 32,
   "id": "86f1fc06-ff85-4f75-81b0-4aa5698900c8",
   "metadata": {},
   "outputs": [],
   "source": [
    "cnts = cnts[0] if len(cnts) == 2 else cents[1]"
   ]
  },
  {
   "cell_type": "code",
   "execution_count": 33,
   "id": "ca9bedb6-35bb-49a7-9be9-9090b39334e8",
   "metadata": {},
   "outputs": [],
   "source": [
    "cnts = sorted(cnts, key=lambda x: cv2.boundingRect(x)[0])"
   ]
  },
  {
   "cell_type": "code",
   "execution_count": 36,
   "id": "cb33e25c-efe4-4f86-b243-f961896317fe",
   "metadata": {},
   "outputs": [
    {
     "data": {
      "text/plain": [
       "True"
      ]
     },
     "execution_count": 36,
     "metadata": {},
     "output_type": "execute_result"
    }
   ],
   "source": [
    "results  = []\n",
    "for c in cnts:\n",
    "    x, y, w, h = cv2.boundingRect(c)\n",
    "    if h > 200 and w > 20:\n",
    "        roi = image[y:y+h, x:x+h]\n",
    "        cv2.rectangle(image, (x, y), (x+w, y+h), (36, 255, 12), 2)\n",
    "        ocr_result = pytesseract.image_to_string(roi)\n",
    "        ocr_result = ocr_result.split(\"\\n\")\n",
    "        for item in ocr_result:\n",
    "            results.append(item)\n",
    "cv2.imwrite(\"temp/reference_bbox_new.png\", image)"
   ]
  },
  {
   "cell_type": "code",
   "execution_count": 37,
   "id": "e8000000-f97b-44b4-8e0e-946aa02d0002",
   "metadata": {},
   "outputs": [
    {
     "name": "stdout",
     "output_type": "stream",
     "text": [
      "[]\n"
     ]
    }
   ],
   "source": [
    "print (results)"
   ]
  }
 ],
 "metadata": {
  "kernelspec": {
   "display_name": "Python 3 (ipykernel)",
   "language": "python",
   "name": "python3"
  },
  "language_info": {
   "codemirror_mode": {
    "name": "ipython",
    "version": 3
   },
   "file_extension": ".py",
   "mimetype": "text/x-python",
   "name": "python",
   "nbconvert_exporter": "python",
   "pygments_lexer": "ipython3",
   "version": "3.12.2"
  }
 },
 "nbformat": 4,
 "nbformat_minor": 5
}
