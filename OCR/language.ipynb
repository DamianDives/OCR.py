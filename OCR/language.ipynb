{
 "cells": [
  {
   "cell_type": "code",
   "execution_count": 18,
   "id": "5e6ad119-ced4-43bb-b21b-b1d4e98485b7",
   "metadata": {},
   "outputs": [],
   "source": [
    "import pytesseract\n"
   ]
  },
  {
   "cell_type": "code",
   "execution_count": 19,
   "id": "fb023243-243b-4b33-be33-8f8727076f99",
   "metadata": {},
   "outputs": [],
   "source": [
    "from PIL import Image\n",
    "from translate import Translator, exceptions"
   ]
  },
  {
   "cell_type": "code",
   "execution_count": null,
   "id": "26040ff3-6f72-44bd-896c-95c74b93b14d",
   "metadata": {},
   "outputs": [
    {
     "name": "stdin",
     "output_type": "stream",
     "text": [
      "Enter the path to the image:  C:\\Users\\karth\\Desktop\\OCR\\data\\jap.png\n"
     ]
    }
   ],
   "source": [
    "def ocr_and_translate(image_path, src_lang=None):\n",
    "    # Perform OCR\n",
    "    text = pytesseract.image_to_string(Image.open(image_path))\n",
    "\n",
    "    # Determine the source language\n",
    "    if src_lang is None:\n",
    "        src_lang = 'auto'\n",
    "\n",
    "    # Translate the text to English\n",
    "    try:\n",
    "        translator = Translator(to_lang=\"en\", from_lang=src_lang)\n",
    "        translated_text = translator.translate(text)\n",
    "    except exceptions.LanguageNotSupportedException:\n",
    "        translated_text = \"Unable to detect the source language. Please specify the source language manually.\"\n",
    "\n",
    "    return translated_text\n",
    "\n",
    "if __name__ == \"__main__\":\n",
    "    image_path = input(\"Enter the path to the image: \")\n",
    "    src_lang = input(\"Enter the source language (leave blank for automatic detection): \").strip()\n",
    "    translated_text = ocr_and_translate(image_path, src_lang)\n",
    "    print(\"Translated text:\", translated_text)\n",
    "\n"
   ]
  },
  {
   "cell_type": "code",
   "execution_count": null,
   "id": "a883477c-ac97-498d-ac41-804843ee956d",
   "metadata": {},
   "outputs": [],
   "source": []
  }
 ],
 "metadata": {
  "kernelspec": {
   "display_name": "Python 3 (ipykernel)",
   "language": "python",
   "name": "python3"
  },
  "language_info": {
   "codemirror_mode": {
    "name": "ipython",
    "version": 3
   },
   "file_extension": ".py",
   "mimetype": "text/x-python",
   "name": "python",
   "nbconvert_exporter": "python",
   "pygments_lexer": "ipython3",
   "version": "3.12.2"
  }
 },
 "nbformat": 4,
 "nbformat_minor": 5
}
