{
 "cells": [
  {
   "cell_type": "code",
   "execution_count": 2,
   "id": "3c5fa775-3b29-45a7-9926-f9953785cb86",
   "metadata": {},
   "outputs": [],
   "source": [
    "import pytesseract\n",
    "from PIL import Image"
   ]
  },
  {
   "cell_type": "code",
   "execution_count": 5,
   "id": "1f5732c0-69f8-4358-ab08-df4d009f4c32",
   "metadata": {},
   "outputs": [],
   "source": [
    "img_file = \"data/12.jpeg\"\n",
    "no_noise = \"temp/no_noise.jpg\""
   ]
  },
  {
   "cell_type": "code",
   "execution_count": 9,
   "id": "d7811d2d-7827-448a-b4df-13408cdfd2b5",
   "metadata": {},
   "outputs": [],
   "source": [
    "img = Image.open(no_noise)"
   ]
  },
  {
   "cell_type": "code",
   "execution_count": 10,
   "id": "bc6c0733-8895-4fad-afe5-5c90ae782446",
   "metadata": {},
   "outputs": [],
   "source": [
    "ocr_result = pytesseract.image_to_string(img)"
   ]
  },
  {
   "cell_type": "code",
   "execution_count": 11,
   "id": "f791b0c9-00f7-4f73-86e5-55fd1e974d6c",
   "metadata": {},
   "outputs": [
    {
     "name": "stdout",
     "output_type": "stream",
     "text": [
      "This is a lot of 12 point text to test the\n",
      "ocr code and see if it works on all types\n",
      "of file format.\n",
      "\n",
      "The quick brown dog jumped over the\n",
      "lazy fox. The quick brown dog jumped\n",
      "over the lazy fox. The quick brown dog\n",
      "jumped over the lazy fox. The quick\n",
      "brown dog jumped over the lazy fox.\n",
      "\n"
     ]
    }
   ],
   "source": [
    "print(ocr_result)"
   ]
  }
 ],
 "metadata": {
  "kernelspec": {
   "display_name": "Python 3 (ipykernel)",
   "language": "python",
   "name": "python3"
  },
  "language_info": {
   "codemirror_mode": {
    "name": "ipython",
    "version": 3
   },
   "file_extension": ".py",
   "mimetype": "text/x-python",
   "name": "python",
   "nbconvert_exporter": "python",
   "pygments_lexer": "ipython3",
   "version": "3.12.2"
  }
 },
 "nbformat": 4,
 "nbformat_minor": 5
}
